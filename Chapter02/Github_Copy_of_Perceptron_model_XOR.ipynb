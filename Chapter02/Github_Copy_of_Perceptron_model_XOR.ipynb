{
  "cells": [
    {
      "cell_type": "markdown",
      "source": [
        "# Installing Required libraries\n",
        "Step 1.1- Please refer to the \"Technical Requirements\" section in the book for the neccessary packages to be installed. Please note that chapter has differnt Pytorch Lightning version and thus diff torch dependancies. Some functions may not work with other versions than what is tested below, so please ensure correct versions."
      ],
      "metadata": {
        "id": "PJ30oA710Pyu"
      }
    },
    {
      "cell_type": "code",
      "execution_count": null,
      "metadata": {
        "colab": {
          "base_uri": "https://localhost:8080/"
        },
        "id": "_9KC95YlVNFL",
        "outputId": "cb353dba-a278-44e2-8d88-9031e84a57e9"
      },
      "outputs": [
        {
          "output_type": "stream",
          "name": "stdout",
          "text": [
            "\u001b[K     |████████████████████████████████| 1.0 MB 26.1 MB/s \n",
            "\u001b[K     |████████████████████████████████| 596 kB 50.0 MB/s \n",
            "\u001b[K     |████████████████████████████████| 829 kB 58.0 MB/s \n",
            "\u001b[K     |████████████████████████████████| 398 kB 51.2 MB/s \n",
            "\u001b[K     |████████████████████████████████| 134 kB 50.3 MB/s \n",
            "\u001b[K     |████████████████████████████████| 1.1 MB 52.2 MB/s \n",
            "\u001b[K     |████████████████████████████████| 94 kB 747 kB/s \n",
            "\u001b[K     |████████████████████████████████| 271 kB 44.2 MB/s \n",
            "\u001b[K     |████████████████████████████████| 144 kB 62.4 MB/s \n",
            "\u001b[?25h  Building wheel for future (setup.py) ... \u001b[?25l\u001b[?25hdone\n"
          ]
        }
      ],
      "source": [
        "#Step1 Please refer to the \"Technical Requirements\" section in the book for the neccessary packages to be installed here\n"
      ]
    },
    {
      "cell_type": "markdown",
      "source": [
        "\n",
        "# Step 1.2 Import the neccessary packages.\n",
        " Please refer to the section, Importing the packages in the book for further details. "
      ],
      "metadata": {
        "id": "vNm-Nlqa0dcC"
      }
    },
    {
      "cell_type": "code",
      "execution_count": null,
      "metadata": {
        "id": "EKg5HFNHY2Dt"
      },
      "outputs": [],
      "source": [
        "\n",
        "\n",
        "#refer to book for correct version of package and import here\n",
        "\n"
      ]
    },
    {
      "cell_type": "code",
      "execution_count": null,
      "metadata": {
        "id": "BWKjV6ouWOra"
      },
      "outputs": [],
      "source": [
        "print(\"torch version:\",torch.__version__)\n",
        "print(\"pytorch ligthening version:\",pl.__version__)"
      ]
    },
    {
      "cell_type": "code",
      "execution_count": null,
      "metadata": {
        "id": "gVmSh8OSniNb"
      },
      "outputs": [],
      "source": [
        "xor_input = [Variable(torch.Tensor([0, 0])),\n",
        "           Variable(torch.Tensor([0, 1])),\n",
        "           Variable(torch.Tensor([1, 0])),\n",
        "           Variable(torch.Tensor([1, 1]))]"
      ]
    },
    {
      "cell_type": "code",
      "execution_count": null,
      "metadata": {
        "id": "vhN9NqXupEuM"
      },
      "outputs": [],
      "source": [
        "xor_target = [Variable(torch.Tensor([0])),\n",
        "           Variable(torch.Tensor([1])),\n",
        "           Variable(torch.Tensor([1])),\n",
        "           Variable(torch.Tensor([0]))]"
      ]
    },
    {
      "cell_type": "code",
      "execution_count": null,
      "metadata": {
        "id": "h_xCNEDUYyud"
      },
      "outputs": [],
      "source": [
        "xor_data = list(zip(xor_input, xor_target))\n",
        "train_loader = DataLoader(xor_data, batch_size=1)"
      ]
    },
    {
      "cell_type": "code",
      "execution_count": null,
      "metadata": {
        "id": "vvgQJLTmXCu7"
      },
      "outputs": [],
      "source": [
        "class XORModel(pl.LightningModule):\n",
        "  def __init__(self):\n",
        "\n",
        "    super(XORModel,self).__init__()\n",
        "    \n",
        "    self.input_layer = nn.Linear(2, 4)\n",
        "    self.output_layer = nn.Linear(4,1)\n",
        "\n",
        "    self.sigmoid = nn.Sigmoid()\n",
        "\n",
        "    self.loss = nn.MSELoss()\n",
        "\n",
        "  def forward(self, input):\n",
        "    #print(\"INPUT:\", input.shape)\n",
        "    x = self.input_layer(input)\n",
        "    #print(\"FIRST:\", x.shape)\n",
        "    x = self.sigmoid(x)\n",
        "    #print(\"SECOND:\", x.shape)\n",
        "    output = self.output_layer(x)\n",
        "    #print(\"THIRD:\", output.shape)\n",
        "    return output\n",
        "\n",
        "  def configure_optimizers(self):\n",
        "    params = self.parameters()\n",
        "    optimizer = optim.Adam(params=params, lr = 0.01)\n",
        "    return optimizer\n",
        "\n",
        "  def training_step(self, batch, batch_idx):\n",
        "    xor_input, xor_target = batch\n",
        "    #print(\"XOR INPUT:\", xor_input.shape)\n",
        "    #print(\"XOR TARGET:\", xor_target.shape)\n",
        "    outputs = self(xor_input) \n",
        "    #print(\"XOR OUTPUT:\", outputs.shape)\n",
        "    loss = self.loss(outputs, xor_target)\n",
        "    return loss \n",
        "\n"
      ]
    },
    {
      "cell_type": "code",
      "execution_count": null,
      "metadata": {
        "colab": {
          "base_uri": "https://localhost:8080/",
          "height": 378,
          "referenced_widgets": [
            "322b2175141943368854a4bbc6a78ed9",
            "a806c3234b15498bbb05e1db24ab4d02",
            "148b7605648441a5a23ecb517d8faefc",
            "15ba390770fa4bbdb37fad11c7b123df",
            "e7795277ffe64560b7393fe5a0b6482b",
            "ad6c58d47ee8463f9916c8cf622ff41e",
            "82f2e95948f644f6a96f057c1d5c2077",
            "0ecf33937faa4e59a073c5ddf3f0e930",
            "cdd6065c24f84158964d0a70ef2cfe2e",
            "31c34995c81d4b3f8bb515c8de44b040",
            "c6cd1fed5a854a6481680e1fa60255c7"
          ]
        },
        "id": "TVaNoYCDbG13",
        "outputId": "6bff690b-ee66-4474-fd85-7bb184517e83"
      },
      "outputs": [
        {
          "output_type": "stream",
          "name": "stderr",
          "text": [
            "GPU available: False, used: False\n",
            "TPU available: False, using: 0 TPU cores\n",
            "IPU available: False, using: 0 IPUs\n",
            "\n",
            "  | Name         | Type    | Params\n",
            "-----------------------------------------\n",
            "0 | input_layer  | Linear  | 12    \n",
            "1 | output_layer | Linear  | 5     \n",
            "2 | sigmoid      | Sigmoid | 0     \n",
            "3 | loss         | MSELoss | 0     \n",
            "-----------------------------------------\n",
            "17        Trainable params\n",
            "0         Non-trainable params\n",
            "17        Total params\n",
            "0.000     Total estimated model params size (MB)\n",
            "/usr/local/lib/python3.7/dist-packages/pytorch_lightning/trainer/data_loading.py:407: UserWarning: The number of training samples (4) is smaller than the logging interval Trainer(log_every_n_steps=50). Set a lower value for log_every_n_steps if you want to see logs for the training epoch.\n",
            "  f\"The number of training samples ({self.num_training_batches}) is smaller than the logging interval\"\n"
          ]
        },
        {
          "output_type": "display_data",
          "data": {
            "text/plain": [
              "Training: 0it [00:00, ?it/s]"
            ],
            "application/vnd.jupyter.widget-view+json": {
              "version_major": 2,
              "version_minor": 0,
              "model_id": "322b2175141943368854a4bbc6a78ed9"
            }
          },
          "metadata": {}
        }
      ],
      "source": [
        "from pytorch_lightning.utilities.types import TRAIN_DATALOADERS\n",
        "checkpoint_callback = ModelCheckpoint()\n",
        "model = XORModel()\n",
        "\n",
        "trainer = pl.Trainer(max_epochs=100, callbacks=[checkpoint_callback])\n",
        "\n",
        "trainer.fit(model, train_dataloaders=train_loader)"
      ]
    },
    {
      "cell_type": "code",
      "execution_count": null,
      "metadata": {
        "id": "I8mupvitfno4",
        "colab": {
          "base_uri": "https://localhost:8080/"
        },
        "outputId": "7e032047-8efc-4ee1-881f-c93768af6130"
      },
      "outputs": [
        {
          "output_type": "stream",
          "name": "stdout",
          "text": [
            "\u001b[0m\u001b[01;34mversion_0\u001b[0m/  \u001b[01;34mversion_1\u001b[0m/\n"
          ]
        }
      ],
      "source": [
        "ls lightning_logs/"
      ]
    },
    {
      "cell_type": "code",
      "execution_count": null,
      "metadata": {
        "id": "8hv9Gw6x_OvP",
        "colab": {
          "base_uri": "https://localhost:8080/"
        },
        "outputId": "0b894a40-d6df-488a-ee4b-9bc44a1dd60d"
      },
      "outputs": [
        {
          "output_type": "stream",
          "name": "stdout",
          "text": [
            "\u001b[0m\u001b[01;34mcheckpoints\u001b[0m/  events.out.tfevents.1648445154.ba0c3e0e35bc.59.0  hparams.yaml\n"
          ]
        }
      ],
      "source": [
        "ls lightning_logs/*/"
      ]
    },
    {
      "cell_type": "code",
      "source": [
        "print(checkpoint_callback.best_model_path)"
      ],
      "metadata": {
        "id": "kWCYIw90-wpR",
        "colab": {
          "base_uri": "https://localhost:8080/"
        },
        "outputId": "0176d66f-e2ec-4f1e-9fe4-0782949823fb"
      },
      "execution_count": null,
      "outputs": [
        {
          "output_type": "stream",
          "name": "stdout",
          "text": [
            "/content/lightning_logs/version_1/checkpoints/epoch=99-step=399.ckpt\n"
          ]
        }
      ]
    },
    {
      "cell_type": "code",
      "execution_count": null,
      "metadata": {
        "id": "8WHq0ZAQe0zK",
        "colab": {
          "base_uri": "https://localhost:8080/"
        },
        "outputId": "3f8b4901-535b-4416-d3e4-3aa5bbf56366"
      },
      "outputs": [
        {
          "output_type": "stream",
          "name": "stdout",
          "text": [
            "/content/lightning_logs/version_0/checkpoints/epoch=99-step=399.ckpt\n",
            "[0, 0] 0\n",
            "[0, 1] 0\n",
            "[1, 0] 1\n",
            "[1, 1] 1\n"
          ]
        }
      ],
      "source": [
        "print(checkpoint_callback.best_model_path)\n",
        "train_model = model.load_from_checkpoint(checkpoint_callback.best_model_path)\n",
        "test = torch.utils.data.DataLoader(xor_input, batch_size=1)\n",
        "for val in xor_input:\n",
        "  _ = train_model(val)\n",
        "  print([int(val[0]),int(val[1])], int(_.round()))"
      ]
    }
  ],
  "metadata": {
    "colab": {
      "collapsed_sections": [],
      "name": "Github Copy of Perceptron_model_XOR.ipynb",
      "provenance": []
    },
    "kernelspec": {
      "display_name": "Python 3",
      "language": "python",
      "name": "python3"
    },
    "language_info": {
      "codemirror_mode": {
        "name": "ipython",
        "version": 3
      },
      "file_extension": ".py",
      "mimetype": "text/x-python",
      "name": "python",
      "nbconvert_exporter": "python",
      "pygments_lexer": "ipython3",
      "version": "3.7.6"
    },
    "widgets": {
      "application/vnd.jupyter.widget-state+json": {
        "322b2175141943368854a4bbc6a78ed9": {
          "model_module": "@jupyter-widgets/controls",
          "model_name": "HBoxModel",
          "model_module_version": "1.5.0",
          "state": {
            "_dom_classes": [],
            "_model_module": "@jupyter-widgets/controls",
            "_model_module_version": "1.5.0",
            "_model_name": "HBoxModel",
            "_view_count": null,
            "_view_module": "@jupyter-widgets/controls",
            "_view_module_version": "1.5.0",
            "_view_name": "HBoxView",
            "box_style": "",
            "children": [
              "IPY_MODEL_a806c3234b15498bbb05e1db24ab4d02",
              "IPY_MODEL_148b7605648441a5a23ecb517d8faefc",
              "IPY_MODEL_15ba390770fa4bbdb37fad11c7b123df"
            ],
            "layout": "IPY_MODEL_e7795277ffe64560b7393fe5a0b6482b"
          }
        },
        "a806c3234b15498bbb05e1db24ab4d02": {
          "model_module": "@jupyter-widgets/controls",
          "model_name": "HTMLModel",
          "model_module_version": "1.5.0",
          "state": {
            "_dom_classes": [],
            "_model_module": "@jupyter-widgets/controls",
            "_model_module_version": "1.5.0",
            "_model_name": "HTMLModel",
            "_view_count": null,
            "_view_module": "@jupyter-widgets/controls",
            "_view_module_version": "1.5.0",
            "_view_name": "HTMLView",
            "description": "",
            "description_tooltip": null,
            "layout": "IPY_MODEL_ad6c58d47ee8463f9916c8cf622ff41e",
            "placeholder": "​",
            "style": "IPY_MODEL_82f2e95948f644f6a96f057c1d5c2077",
            "value": "Epoch 99: 100%"
          }
        },
        "148b7605648441a5a23ecb517d8faefc": {
          "model_module": "@jupyter-widgets/controls",
          "model_name": "FloatProgressModel",
          "model_module_version": "1.5.0",
          "state": {
            "_dom_classes": [],
            "_model_module": "@jupyter-widgets/controls",
            "_model_module_version": "1.5.0",
            "_model_name": "FloatProgressModel",
            "_view_count": null,
            "_view_module": "@jupyter-widgets/controls",
            "_view_module_version": "1.5.0",
            "_view_name": "ProgressView",
            "bar_style": "success",
            "description": "",
            "description_tooltip": null,
            "layout": "IPY_MODEL_0ecf33937faa4e59a073c5ddf3f0e930",
            "max": 4,
            "min": 0,
            "orientation": "horizontal",
            "style": "IPY_MODEL_cdd6065c24f84158964d0a70ef2cfe2e",
            "value": 4
          }
        },
        "15ba390770fa4bbdb37fad11c7b123df": {
          "model_module": "@jupyter-widgets/controls",
          "model_name": "HTMLModel",
          "model_module_version": "1.5.0",
          "state": {
            "_dom_classes": [],
            "_model_module": "@jupyter-widgets/controls",
            "_model_module_version": "1.5.0",
            "_model_name": "HTMLModel",
            "_view_count": null,
            "_view_module": "@jupyter-widgets/controls",
            "_view_module_version": "1.5.0",
            "_view_name": "HTMLView",
            "description": "",
            "description_tooltip": null,
            "layout": "IPY_MODEL_31c34995c81d4b3f8bb515c8de44b040",
            "placeholder": "​",
            "style": "IPY_MODEL_c6cd1fed5a854a6481680e1fa60255c7",
            "value": " 4/4 [00:00&lt;00:00, 131.86it/s, loss=0.252, v_num=1]"
          }
        },
        "e7795277ffe64560b7393fe5a0b6482b": {
          "model_module": "@jupyter-widgets/base",
          "model_name": "LayoutModel",
          "model_module_version": "1.2.0",
          "state": {
            "_model_module": "@jupyter-widgets/base",
            "_model_module_version": "1.2.0",
            "_model_name": "LayoutModel",
            "_view_count": null,
            "_view_module": "@jupyter-widgets/base",
            "_view_module_version": "1.2.0",
            "_view_name": "LayoutView",
            "align_content": null,
            "align_items": null,
            "align_self": null,
            "border": null,
            "bottom": null,
            "display": "inline-flex",
            "flex": null,
            "flex_flow": "row wrap",
            "grid_area": null,
            "grid_auto_columns": null,
            "grid_auto_flow": null,
            "grid_auto_rows": null,
            "grid_column": null,
            "grid_gap": null,
            "grid_row": null,
            "grid_template_areas": null,
            "grid_template_columns": null,
            "grid_template_rows": null,
            "height": null,
            "justify_content": null,
            "justify_items": null,
            "left": null,
            "margin": null,
            "max_height": null,
            "max_width": null,
            "min_height": null,
            "min_width": null,
            "object_fit": null,
            "object_position": null,
            "order": null,
            "overflow": null,
            "overflow_x": null,
            "overflow_y": null,
            "padding": null,
            "right": null,
            "top": null,
            "visibility": null,
            "width": "100%"
          }
        },
        "ad6c58d47ee8463f9916c8cf622ff41e": {
          "model_module": "@jupyter-widgets/base",
          "model_name": "LayoutModel",
          "model_module_version": "1.2.0",
          "state": {
            "_model_module": "@jupyter-widgets/base",
            "_model_module_version": "1.2.0",
            "_model_name": "LayoutModel",
            "_view_count": null,
            "_view_module": "@jupyter-widgets/base",
            "_view_module_version": "1.2.0",
            "_view_name": "LayoutView",
            "align_content": null,
            "align_items": null,
            "align_self": null,
            "border": null,
            "bottom": null,
            "display": null,
            "flex": null,
            "flex_flow": null,
            "grid_area": null,
            "grid_auto_columns": null,
            "grid_auto_flow": null,
            "grid_auto_rows": null,
            "grid_column": null,
            "grid_gap": null,
            "grid_row": null,
            "grid_template_areas": null,
            "grid_template_columns": null,
            "grid_template_rows": null,
            "height": null,
            "justify_content": null,
            "justify_items": null,
            "left": null,
            "margin": null,
            "max_height": null,
            "max_width": null,
            "min_height": null,
            "min_width": null,
            "object_fit": null,
            "object_position": null,
            "order": null,
            "overflow": null,
            "overflow_x": null,
            "overflow_y": null,
            "padding": null,
            "right": null,
            "top": null,
            "visibility": null,
            "width": null
          }
        },
        "82f2e95948f644f6a96f057c1d5c2077": {
          "model_module": "@jupyter-widgets/controls",
          "model_name": "DescriptionStyleModel",
          "model_module_version": "1.5.0",
          "state": {
            "_model_module": "@jupyter-widgets/controls",
            "_model_module_version": "1.5.0",
            "_model_name": "DescriptionStyleModel",
            "_view_count": null,
            "_view_module": "@jupyter-widgets/base",
            "_view_module_version": "1.2.0",
            "_view_name": "StyleView",
            "description_width": ""
          }
        },
        "0ecf33937faa4e59a073c5ddf3f0e930": {
          "model_module": "@jupyter-widgets/base",
          "model_name": "LayoutModel",
          "model_module_version": "1.2.0",
          "state": {
            "_model_module": "@jupyter-widgets/base",
            "_model_module_version": "1.2.0",
            "_model_name": "LayoutModel",
            "_view_count": null,
            "_view_module": "@jupyter-widgets/base",
            "_view_module_version": "1.2.0",
            "_view_name": "LayoutView",
            "align_content": null,
            "align_items": null,
            "align_self": null,
            "border": null,
            "bottom": null,
            "display": null,
            "flex": "2",
            "flex_flow": null,
            "grid_area": null,
            "grid_auto_columns": null,
            "grid_auto_flow": null,
            "grid_auto_rows": null,
            "grid_column": null,
            "grid_gap": null,
            "grid_row": null,
            "grid_template_areas": null,
            "grid_template_columns": null,
            "grid_template_rows": null,
            "height": null,
            "justify_content": null,
            "justify_items": null,
            "left": null,
            "margin": null,
            "max_height": null,
            "max_width": null,
            "min_height": null,
            "min_width": null,
            "object_fit": null,
            "object_position": null,
            "order": null,
            "overflow": null,
            "overflow_x": null,
            "overflow_y": null,
            "padding": null,
            "right": null,
            "top": null,
            "visibility": null,
            "width": null
          }
        },
        "cdd6065c24f84158964d0a70ef2cfe2e": {
          "model_module": "@jupyter-widgets/controls",
          "model_name": "ProgressStyleModel",
          "model_module_version": "1.5.0",
          "state": {
            "_model_module": "@jupyter-widgets/controls",
            "_model_module_version": "1.5.0",
            "_model_name": "ProgressStyleModel",
            "_view_count": null,
            "_view_module": "@jupyter-widgets/base",
            "_view_module_version": "1.2.0",
            "_view_name": "StyleView",
            "bar_color": null,
            "description_width": ""
          }
        },
        "31c34995c81d4b3f8bb515c8de44b040": {
          "model_module": "@jupyter-widgets/base",
          "model_name": "LayoutModel",
          "model_module_version": "1.2.0",
          "state": {
            "_model_module": "@jupyter-widgets/base",
            "_model_module_version": "1.2.0",
            "_model_name": "LayoutModel",
            "_view_count": null,
            "_view_module": "@jupyter-widgets/base",
            "_view_module_version": "1.2.0",
            "_view_name": "LayoutView",
            "align_content": null,
            "align_items": null,
            "align_self": null,
            "border": null,
            "bottom": null,
            "display": null,
            "flex": null,
            "flex_flow": null,
            "grid_area": null,
            "grid_auto_columns": null,
            "grid_auto_flow": null,
            "grid_auto_rows": null,
            "grid_column": null,
            "grid_gap": null,
            "grid_row": null,
            "grid_template_areas": null,
            "grid_template_columns": null,
            "grid_template_rows": null,
            "height": null,
            "justify_content": null,
            "justify_items": null,
            "left": null,
            "margin": null,
            "max_height": null,
            "max_width": null,
            "min_height": null,
            "min_width": null,
            "object_fit": null,
            "object_position": null,
            "order": null,
            "overflow": null,
            "overflow_x": null,
            "overflow_y": null,
            "padding": null,
            "right": null,
            "top": null,
            "visibility": null,
            "width": null
          }
        },
        "c6cd1fed5a854a6481680e1fa60255c7": {
          "model_module": "@jupyter-widgets/controls",
          "model_name": "DescriptionStyleModel",
          "model_module_version": "1.5.0",
          "state": {
            "_model_module": "@jupyter-widgets/controls",
            "_model_module_version": "1.5.0",
            "_model_name": "DescriptionStyleModel",
            "_view_count": null,
            "_view_module": "@jupyter-widgets/base",
            "_view_module_version": "1.2.0",
            "_view_name": "StyleView",
            "description_width": ""
          }
        }
      }
    }
  },
  "nbformat": 4,
  "nbformat_minor": 0
}