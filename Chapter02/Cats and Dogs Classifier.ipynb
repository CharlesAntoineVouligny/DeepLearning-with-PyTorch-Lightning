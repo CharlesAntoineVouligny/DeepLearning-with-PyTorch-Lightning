{
 "cells": [
  {
   "cell_type": "code",
   "execution_count": null,
   "metadata": {
    "colab": {
     "base_uri": "https://localhost:8080/"
    },
    "executionInfo": {
     "elapsed": 10449,
     "status": "ok",
     "timestamp": 1616501173685,
     "user": {
      "displayName": "dheeraj .A",
      "photoUrl": "https://lh3.googleusercontent.com/a-/AOh14GgEdRn1Ienu5i7b5IVtFaN58Z_TnnpmaKwZBsJPNw=s64",
      "userId": "18370977043392790475"
     },
     "user_tz": 300
    },
    "id": "qf2X5Qyfx_Mx",
    "outputId": "1c72dbe9-8620-452f-8dc5-d690cfd6f795"
   },
   "outputs": [],
   "source": [
    "!pip install pytorch-lightning==1.2.3 --quiet"
   ]
  },
  {
   "cell_type": "code",
   "execution_count": null,
   "metadata": {
    "id": "_OdA1BEX5x0U"
   },
   "outputs": [],
   "source": [
    "!pip install opendatasets --upgrade --quiet"
   ]
  },
  {
   "cell_type": "code",
   "execution_count": null,
   "metadata": {
    "id": "d_ipu9mvynTD"
   },
   "outputs": [],
   "source": [
    "import opendatasets as od\n",
    "\n",
    "from sklearn.metrics import confusion_matrix\n",
    "import matplotlib.pyplot as plt\n",
    "\n",
    "import torch\n",
    "from torch import nn, optim\n",
    "from torch.utils.data import DataLoader\n",
    "from torchvision.datasets import ImageFolder\n",
    "import torchvision.transforms as T\n",
    "from torchvision.utils import make_grid\n",
    "\n",
    "import pytorch_lightning as pl"
   ]
  },
  {
   "cell_type": "code",
   "execution_count": null,
   "metadata": {
    "colab": {
     "base_uri": "https://localhost:8080/",
     "height": 35
    },
    "executionInfo": {
     "elapsed": 334,
     "status": "ok",
     "timestamp": 1616504630470,
     "user": {
      "displayName": "dheeraj .A",
      "photoUrl": "https://lh3.googleusercontent.com/a-/AOh14GgEdRn1Ienu5i7b5IVtFaN58Z_TnnpmaKwZBsJPNw=s64",
      "userId": "18370977043392790475"
     },
     "user_tz": 300
    },
    "id": "4l-zT0Zq5Ai5",
    "outputId": "3d755516-bfe6-446b-de6f-55a843f77c7a"
   },
   "outputs": [],
   "source": [
    "pl.__version__"
   ]
  },
  {
   "cell_type": "code",
   "execution_count": null,
   "metadata": {
    "colab": {
     "base_uri": "https://localhost:8080/"
    },
    "executionInfo": {
     "elapsed": 14614,
     "status": "ok",
     "timestamp": 1616501201491,
     "user": {
      "displayName": "dheeraj .A",
      "photoUrl": "https://lh3.googleusercontent.com/a-/AOh14GgEdRn1Ienu5i7b5IVtFaN58Z_TnnpmaKwZBsJPNw=s64",
      "userId": "18370977043392790475"
     },
     "user_tz": 300
    },
    "id": "aA7jRjbu54Qi",
    "outputId": "c69b8eba-100d-4b1f-aec6-9318111a3b8e"
   },
   "outputs": [],
   "source": [
    "# Use kaggle username and token to download the dataset\n",
    "dataset_url = 'https://www.kaggle.com/tongpython/cat-and-dog'\n",
    "od.download(dataset_url)"
   ]
  },
  {
   "cell_type": "code",
   "execution_count": null,
   "metadata": {
    "colab": {
     "base_uri": "https://localhost:8080/"
    },
    "executionInfo": {
     "elapsed": 362,
     "status": "ok",
     "timestamp": 1616504636589,
     "user": {
      "displayName": "dheeraj .A",
      "photoUrl": "https://lh3.googleusercontent.com/a-/AOh14GgEdRn1Ienu5i7b5IVtFaN58Z_TnnpmaKwZBsJPNw=s64",
      "userId": "18370977043392790475"
     },
     "user_tz": 300
    },
    "id": "ljM54ZaF6-v4",
    "outputId": "23749d72-3572-4b80-c03a-4eb106c85938"
   },
   "outputs": [],
   "source": [
    "!ls cat-and-dog/test_set/test_set"
   ]
  },
  {
   "cell_type": "code",
   "execution_count": null,
   "metadata": {
    "id": "uA848SeU7JMk"
   },
   "outputs": [],
   "source": [
    "image_size = 64\n",
    "batch_size = 256\n",
    "\n",
    "data_path_train = \"cat-and-dog/training_set/training_set\"\n",
    "data_path_test= \"cat-and-dog/test_set/test_set\""
   ]
  },
  {
   "cell_type": "code",
   "execution_count": null,
   "metadata": {
    "id": "KQycxND37tCj"
   },
   "outputs": [],
   "source": [
    "train_dataset = ImageFolder(data_path_train, transform=T.Compose([\n",
    "    T.Resize(image_size),\n",
    "    T.CenterCrop(image_size),\n",
    "    T.ToTensor()]))\n",
    "\n",
    "test_dataset = ImageFolder(data_path_test, transform=T.Compose([\n",
    "    T.Resize(image_size),\n",
    "    T.CenterCrop(image_size),\n",
    "    T.ToTensor()]))\n",
    "\n",
    "train_dataloader = DataLoader(train_dataset, batch_size, num_workers=2, pin_memory=True, shuffle=True)\n",
    "test_dataloader = DataLoader(test_dataset, batch_size, num_workers=2, pin_memory=True)"
   ]
  },
  {
   "cell_type": "code",
   "execution_count": null,
   "metadata": {
    "colab": {
     "base_uri": "https://localhost:8080/"
    },
    "executionInfo": {
     "elapsed": 379,
     "status": "ok",
     "timestamp": 1616504639635,
     "user": {
      "displayName": "dheeraj .A",
      "photoUrl": "https://lh3.googleusercontent.com/a-/AOh14GgEdRn1Ienu5i7b5IVtFaN58Z_TnnpmaKwZBsJPNw=s64",
      "userId": "18370977043392790475"
     },
     "user_tz": 300
    },
    "id": "dKR2lmvC-xKY",
    "outputId": "7743b3ad-7eb9-4f25-b2e6-dc5dc48e321e"
   },
   "outputs": [],
   "source": [
    "print(\"Total images in train dataset:\", len(train_dataset))\n",
    "print(\"Tottal images in test dataset:\", len(test_dataset))"
   ]
  },
  {
   "cell_type": "code",
   "execution_count": null,
   "metadata": {
    "id": "A7wAt20P7zrd"
   },
   "outputs": [],
   "source": [
    "def display_images(images, total_images_to_display = 64):\n",
    "    fig, ax = plt.subplots(figsize=(8, 8))\n",
    "    ax.set_xticks([])\n",
    "    ax.set_yticks([])\n",
    "    images= images.detach()\n",
    "    images = images[:total_images_to_display]\n",
    "\n",
    "    ax.imshow(make_grid(images, nrow=8).permute(1, 2, 0))"
   ]
  },
  {
   "cell_type": "code",
   "execution_count": null,
   "metadata": {
    "colab": {
     "base_uri": "https://localhost:8080/",
     "height": 469
    },
    "executionInfo": {
     "elapsed": 9418,
     "status": "ok",
     "timestamp": 1616504652546,
     "user": {
      "displayName": "dheeraj .A",
      "photoUrl": "https://lh3.googleusercontent.com/a-/AOh14GgEdRn1Ienu5i7b5IVtFaN58Z_TnnpmaKwZBsJPNw=s64",
      "userId": "18370977043392790475"
     },
     "user_tz": 300
    },
    "id": "7dmdv_FB8TbB",
    "outputId": "c3ab3574-bead-4487-f81b-fa57aa7fc567"
   },
   "outputs": [],
   "source": [
    "for images, _ in train_dataloader:\n",
    "  display_images(images)\n",
    "  break"
   ]
  },
  {
   "cell_type": "code",
   "execution_count": null,
   "metadata": {
    "colab": {
     "base_uri": "https://localhost:8080/",
     "height": 469
    },
    "executionInfo": {
     "elapsed": 11370,
     "status": "ok",
     "timestamp": 1616504655214,
     "user": {
      "displayName": "dheeraj .A",
      "photoUrl": "https://lh3.googleusercontent.com/a-/AOh14GgEdRn1Ienu5i7b5IVtFaN58Z_TnnpmaKwZBsJPNw=s64",
      "userId": "18370977043392790475"
     },
     "user_tz": 300
    },
    "id": "CZwsBqy1QzLf",
    "outputId": "b7d38281-1ca3-4080-af99-7db4cd80c0bf"
   },
   "outputs": [],
   "source": [
    "for images, _ in test_dataloader:\n",
    "  display_images(images)\n",
    "  break"
   ]
  },
  {
   "cell_type": "code",
   "execution_count": null,
   "metadata": {
    "id": "GOEP2KAj8WAT"
   },
   "outputs": [],
   "source": [
    "class ImageClassifier(pl.LightningModule):\n",
    "\n",
    "    def __init__(self, learning_rate = 0.001):\n",
    "        super().__init__()\n",
    "\n",
    "        self.learning_rate = learning_rate\n",
    "\n",
    "        self.conv_layer1 = nn.Conv2d(in_channels=3,out_channels=3,kernel_size=3,stride=1,padding=1)\n",
    "        self.relu1=nn.ReLU()\n",
    "        self.pool=nn.MaxPool2d(kernel_size=2)\n",
    "        self.conv_layer2 = nn.Conv2d(in_channels=3,out_channels=6,kernel_size=3,stride=1,padding=1)\n",
    "        self.relu2=nn.ReLU()\n",
    "        self.fully_connected_1 =nn.Linear(in_features=32 * 32 * 6,out_features=1000)\n",
    "        self.fully_connected_2 =nn.Linear(in_features=1000,out_features=250)\n",
    "        self.fully_connected_3 =nn.Linear(in_features=250,out_features=60)\n",
    "        self.fully_connected_4 =nn.Linear(in_features=60,out_features=2)\n",
    "        self.loss = nn.CrossEntropyLoss()\n",
    "        self.save_hyperparameters()\n",
    "\n",
    "    def forward(self, input):\n",
    "        output=self.conv_layer1(input)\n",
    "        output=self.relu1(output)\n",
    "        output=self.pool(output)\n",
    "        output=self.conv_layer2(output)\n",
    "        output=self.relu2(output)\n",
    "        output=output.view(-1, 6*32*32)\n",
    "        output = self.fully_connected_1(output)\n",
    "        output = self.fully_connected_2(output)\n",
    "        output = self.fully_connected_3(output)\n",
    "        output = self.fully_connected_4(output)\n",
    "        return output\n",
    "\n",
    "    def training_step(self, batch, batch_idx):\n",
    "        inputs, targets = batch\n",
    "        outputs = self(inputs) \n",
    "        accuracy = self.binary_accuracy(outputs, targets)\n",
    "        loss = self.loss(outputs, targets)\n",
    "        self.log('train_accuracy', accuracy, prog_bar=True)\n",
    "        self.log('train_loss', loss)\n",
    "        return {\"loss\":loss, \"train_accuracy\":accuracy}\n",
    "\n",
    "    def test_step(self, batch, batch_idx):\n",
    "        inputs, targets = batch\n",
    "        outputs = self.forward(inputs)\n",
    "        accuracy = self.binary_accuracy(outputs,targets)\n",
    "        loss = self.loss(outputs, targets)\n",
    "        self.log('test_accuracy', accuracy)\n",
    "        return {\"test_loss\":loss, \"test_accuracy\":accuracy}\n",
    "\n",
    "    def configure_optimizers(self):\n",
    "        params = self.parameters()\n",
    "        optimizer = optim.Adam(params=params, lr = self.learning_rate)\n",
    "        return optimizer\n",
    "\n",
    "    def binary_accuracy(self, outputs, targets):\n",
    "        _, outputs = torch.max(outputs,1)\n",
    "        correct_results_sum = (outputs == targets).sum().float()\n",
    "        acc = correct_results_sum/targets.shape[0]\n",
    "        return acc"
   ]
  },
  {
   "cell_type": "code",
   "execution_count": null,
   "metadata": {
    "colab": {
     "base_uri": "https://localhost:8080/",
     "height": 440,
     "referenced_widgets": [
      "e0f4595bedfa42e6b6d45f435c480605",
      "ca066516cd8b476fb4776f31f5cddb95",
      "3f739c4af35f402eb3ead5668c157f69",
      "34cd5ba4322346aab1385820b5343cf7",
      "0fc584f98ea14a298dd324cd5724cff3",
      "79538cfadc8a42de8534561361c2fa04",
      "6b7738ea14b640629a095641f0cc1885",
      "14ef3791ce1f417bb4326275a9f26860"
     ]
    },
    "executionInfo": {
     "elapsed": 2124638,
     "status": "ok",
     "timestamp": 1616507059043,
     "user": {
      "displayName": "dheeraj .A",
      "photoUrl": "https://lh3.googleusercontent.com/a-/AOh14GgEdRn1Ienu5i7b5IVtFaN58Z_TnnpmaKwZBsJPNw=s64",
      "userId": "18370977043392790475"
     },
     "user_tz": 300
    },
    "id": "yUDM6xgM8giR",
    "outputId": "2ce131e5-f846-4767-836e-9f46ce28a7ed"
   },
   "outputs": [],
   "source": [
    "model = ImageClassifier()\n",
    "\n",
    "trainer = pl.Trainer(max_epochs=100, progress_bar_refresh_rate=30, gpus=1)\n",
    "trainer.fit(model, train_dataloader=train_dataloader)"
   ]
  },
  {
   "cell_type": "code",
   "execution_count": null,
   "metadata": {
    "colab": {
     "base_uri": "https://localhost:8080/",
     "height": 151,
     "referenced_widgets": [
      "1268f2f83d374a86a02baacc932cb171",
      "6a52b8cb125b4e36a5cb60fafbd7e251",
      "99f41f6d14974fbfb63a3d0ee29635a9",
      "f7cde63276974d458551a95f20abbddf",
      "265b85d82a894996b9b8f650cd20172f",
      "46e4b4a25cae49399ad4f10435802c9d",
      "a30ea7dad3ec4526919c39b999082ef4",
      "f2cb2d07ec754c4192cf4dfee28e92f6"
     ]
    },
    "executionInfo": {
     "elapsed": 5494,
     "status": "ok",
     "timestamp": 1616167391805,
     "user": {
      "displayName": "dheeraj .A",
      "photoUrl": "https://lh3.googleusercontent.com/a-/AOh14GgEdRn1Ienu5i7b5IVtFaN58Z_TnnpmaKwZBsJPNw=s64",
      "userId": "18370977043392790475"
     },
     "user_tz": 300
    },
    "id": "8X_RUWjh8qGy",
    "outputId": "ee144405-0353-4709-efa0-f366a424e3e2"
   },
   "outputs": [],
   "source": [
    "trainer.test(test_dataloaders=test_dataloader)"
   ]
  }
 ],
 "metadata": {
  "accelerator": "GPU",
  "colab": {
   "collapsed_sections": [],
   "name": "Cats and Gods Classifier.ipynb",
   "provenance": []
  },
  "kernelspec": {
   "display_name": "Python 3",
   "language": "python",
   "name": "python3"
  },
  "language_info": {
   "codemirror_mode": {
    "name": "ipython",
    "version": 3
   },
   "file_extension": ".py",
   "mimetype": "text/x-python",
   "name": "python",
   "nbconvert_exporter": "python",
   "pygments_lexer": "ipython3",
   "version": "3.8.8"
  },
  "widgets": {
   "application/vnd.jupyter.widget-state+json": {
    "0fc584f98ea14a298dd324cd5724cff3": {
     "model_module": "@jupyter-widgets/controls",
     "model_name": "ProgressStyleModel",
     "state": {
      "_model_module": "@jupyter-widgets/controls",
      "_model_module_version": "1.5.0",
      "_model_name": "ProgressStyleModel",
      "_view_count": null,
      "_view_module": "@jupyter-widgets/base",
      "_view_module_version": "1.2.0",
      "_view_name": "StyleView",
      "bar_color": null,
      "description_width": "initial"
     }
    },
    "1268f2f83d374a86a02baacc932cb171": {
     "model_module": "@jupyter-widgets/controls",
     "model_name": "HBoxModel",
     "state": {
      "_dom_classes": [],
      "_model_module": "@jupyter-widgets/controls",
      "_model_module_version": "1.5.0",
      "_model_name": "HBoxModel",
      "_view_count": null,
      "_view_module": "@jupyter-widgets/controls",
      "_view_module_version": "1.5.0",
      "_view_name": "HBoxView",
      "box_style": "",
      "children": [
       "IPY_MODEL_99f41f6d14974fbfb63a3d0ee29635a9",
       "IPY_MODEL_f7cde63276974d458551a95f20abbddf"
      ],
      "layout": "IPY_MODEL_6a52b8cb125b4e36a5cb60fafbd7e251"
     }
    },
    "14ef3791ce1f417bb4326275a9f26860": {
     "model_module": "@jupyter-widgets/base",
     "model_name": "LayoutModel",
     "state": {
      "_model_module": "@jupyter-widgets/base",
      "_model_module_version": "1.2.0",
      "_model_name": "LayoutModel",
      "_view_count": null,
      "_view_module": "@jupyter-widgets/base",
      "_view_module_version": "1.2.0",
      "_view_name": "LayoutView",
      "align_content": null,
      "align_items": null,
      "align_self": null,
      "border": null,
      "bottom": null,
      "display": null,
      "flex": null,
      "flex_flow": null,
      "grid_area": null,
      "grid_auto_columns": null,
      "grid_auto_flow": null,
      "grid_auto_rows": null,
      "grid_column": null,
      "grid_gap": null,
      "grid_row": null,
      "grid_template_areas": null,
      "grid_template_columns": null,
      "grid_template_rows": null,
      "height": null,
      "justify_content": null,
      "justify_items": null,
      "left": null,
      "margin": null,
      "max_height": null,
      "max_width": null,
      "min_height": null,
      "min_width": null,
      "object_fit": null,
      "object_position": null,
      "order": null,
      "overflow": null,
      "overflow_x": null,
      "overflow_y": null,
      "padding": null,
      "right": null,
      "top": null,
      "visibility": null,
      "width": null
     }
    },
    "265b85d82a894996b9b8f650cd20172f": {
     "model_module": "@jupyter-widgets/controls",
     "model_name": "ProgressStyleModel",
     "state": {
      "_model_module": "@jupyter-widgets/controls",
      "_model_module_version": "1.5.0",
      "_model_name": "ProgressStyleModel",
      "_view_count": null,
      "_view_module": "@jupyter-widgets/base",
      "_view_module_version": "1.2.0",
      "_view_name": "StyleView",
      "bar_color": null,
      "description_width": "initial"
     }
    },
    "34cd5ba4322346aab1385820b5343cf7": {
     "model_module": "@jupyter-widgets/controls",
     "model_name": "HTMLModel",
     "state": {
      "_dom_classes": [],
      "_model_module": "@jupyter-widgets/controls",
      "_model_module_version": "1.5.0",
      "_model_name": "HTMLModel",
      "_view_count": null,
      "_view_module": "@jupyter-widgets/controls",
      "_view_module_version": "1.5.0",
      "_view_name": "HTMLView",
      "description": "",
      "description_tooltip": null,
      "layout": "IPY_MODEL_14ef3791ce1f417bb4326275a9f26860",
      "placeholder": "​",
      "style": "IPY_MODEL_6b7738ea14b640629a095641f0cc1885",
      "value": " 32/32 [00:21&lt;00:00,  1.47it/s, loss=0.145, v_num=2, train_accuracy=0.953]"
     }
    },
    "3f739c4af35f402eb3ead5668c157f69": {
     "model_module": "@jupyter-widgets/controls",
     "model_name": "FloatProgressModel",
     "state": {
      "_dom_classes": [],
      "_model_module": "@jupyter-widgets/controls",
      "_model_module_version": "1.5.0",
      "_model_name": "FloatProgressModel",
      "_view_count": null,
      "_view_module": "@jupyter-widgets/controls",
      "_view_module_version": "1.5.0",
      "_view_name": "ProgressView",
      "bar_style": "success",
      "description": "Epoch 99: 100%",
      "description_tooltip": null,
      "layout": "IPY_MODEL_79538cfadc8a42de8534561361c2fa04",
      "max": 32,
      "min": 0,
      "orientation": "horizontal",
      "style": "IPY_MODEL_0fc584f98ea14a298dd324cd5724cff3",
      "value": 32
     }
    },
    "46e4b4a25cae49399ad4f10435802c9d": {
     "model_module": "@jupyter-widgets/base",
     "model_name": "LayoutModel",
     "state": {
      "_model_module": "@jupyter-widgets/base",
      "_model_module_version": "1.2.0",
      "_model_name": "LayoutModel",
      "_view_count": null,
      "_view_module": "@jupyter-widgets/base",
      "_view_module_version": "1.2.0",
      "_view_name": "LayoutView",
      "align_content": null,
      "align_items": null,
      "align_self": null,
      "border": null,
      "bottom": null,
      "display": null,
      "flex": "2",
      "flex_flow": null,
      "grid_area": null,
      "grid_auto_columns": null,
      "grid_auto_flow": null,
      "grid_auto_rows": null,
      "grid_column": null,
      "grid_gap": null,
      "grid_row": null,
      "grid_template_areas": null,
      "grid_template_columns": null,
      "grid_template_rows": null,
      "height": null,
      "justify_content": null,
      "justify_items": null,
      "left": null,
      "margin": null,
      "max_height": null,
      "max_width": null,
      "min_height": null,
      "min_width": null,
      "object_fit": null,
      "object_position": null,
      "order": null,
      "overflow": null,
      "overflow_x": null,
      "overflow_y": null,
      "padding": null,
      "right": null,
      "top": null,
      "visibility": null,
      "width": null
     }
    },
    "6a52b8cb125b4e36a5cb60fafbd7e251": {
     "model_module": "@jupyter-widgets/base",
     "model_name": "LayoutModel",
     "state": {
      "_model_module": "@jupyter-widgets/base",
      "_model_module_version": "1.2.0",
      "_model_name": "LayoutModel",
      "_view_count": null,
      "_view_module": "@jupyter-widgets/base",
      "_view_module_version": "1.2.0",
      "_view_name": "LayoutView",
      "align_content": null,
      "align_items": null,
      "align_self": null,
      "border": null,
      "bottom": null,
      "display": "inline-flex",
      "flex": null,
      "flex_flow": "row wrap",
      "grid_area": null,
      "grid_auto_columns": null,
      "grid_auto_flow": null,
      "grid_auto_rows": null,
      "grid_column": null,
      "grid_gap": null,
      "grid_row": null,
      "grid_template_areas": null,
      "grid_template_columns": null,
      "grid_template_rows": null,
      "height": null,
      "justify_content": null,
      "justify_items": null,
      "left": null,
      "margin": null,
      "max_height": null,
      "max_width": null,
      "min_height": null,
      "min_width": null,
      "object_fit": null,
      "object_position": null,
      "order": null,
      "overflow": null,
      "overflow_x": null,
      "overflow_y": null,
      "padding": null,
      "right": null,
      "top": null,
      "visibility": null,
      "width": "100%"
     }
    },
    "6b7738ea14b640629a095641f0cc1885": {
     "model_module": "@jupyter-widgets/controls",
     "model_name": "DescriptionStyleModel",
     "state": {
      "_model_module": "@jupyter-widgets/controls",
      "_model_module_version": "1.5.0",
      "_model_name": "DescriptionStyleModel",
      "_view_count": null,
      "_view_module": "@jupyter-widgets/base",
      "_view_module_version": "1.2.0",
      "_view_name": "StyleView",
      "description_width": ""
     }
    },
    "79538cfadc8a42de8534561361c2fa04": {
     "model_module": "@jupyter-widgets/base",
     "model_name": "LayoutModel",
     "state": {
      "_model_module": "@jupyter-widgets/base",
      "_model_module_version": "1.2.0",
      "_model_name": "LayoutModel",
      "_view_count": null,
      "_view_module": "@jupyter-widgets/base",
      "_view_module_version": "1.2.0",
      "_view_name": "LayoutView",
      "align_content": null,
      "align_items": null,
      "align_self": null,
      "border": null,
      "bottom": null,
      "display": null,
      "flex": "2",
      "flex_flow": null,
      "grid_area": null,
      "grid_auto_columns": null,
      "grid_auto_flow": null,
      "grid_auto_rows": null,
      "grid_column": null,
      "grid_gap": null,
      "grid_row": null,
      "grid_template_areas": null,
      "grid_template_columns": null,
      "grid_template_rows": null,
      "height": null,
      "justify_content": null,
      "justify_items": null,
      "left": null,
      "margin": null,
      "max_height": null,
      "max_width": null,
      "min_height": null,
      "min_width": null,
      "object_fit": null,
      "object_position": null,
      "order": null,
      "overflow": null,
      "overflow_x": null,
      "overflow_y": null,
      "padding": null,
      "right": null,
      "top": null,
      "visibility": null,
      "width": null
     }
    },
    "99f41f6d14974fbfb63a3d0ee29635a9": {
     "model_module": "@jupyter-widgets/controls",
     "model_name": "FloatProgressModel",
     "state": {
      "_dom_classes": [],
      "_model_module": "@jupyter-widgets/controls",
      "_model_module_version": "1.5.0",
      "_model_name": "FloatProgressModel",
      "_view_count": null,
      "_view_module": "@jupyter-widgets/controls",
      "_view_module_version": "1.5.0",
      "_view_name": "ProgressView",
      "bar_style": "success",
      "description": "Testing: 100%",
      "description_tooltip": null,
      "layout": "IPY_MODEL_46e4b4a25cae49399ad4f10435802c9d",
      "max": 1,
      "min": 0,
      "orientation": "horizontal",
      "style": "IPY_MODEL_265b85d82a894996b9b8f650cd20172f",
      "value": 1
     }
    },
    "a30ea7dad3ec4526919c39b999082ef4": {
     "model_module": "@jupyter-widgets/controls",
     "model_name": "DescriptionStyleModel",
     "state": {
      "_model_module": "@jupyter-widgets/controls",
      "_model_module_version": "1.5.0",
      "_model_name": "DescriptionStyleModel",
      "_view_count": null,
      "_view_module": "@jupyter-widgets/base",
      "_view_module_version": "1.2.0",
      "_view_name": "StyleView",
      "description_width": ""
     }
    },
    "ca066516cd8b476fb4776f31f5cddb95": {
     "model_module": "@jupyter-widgets/base",
     "model_name": "LayoutModel",
     "state": {
      "_model_module": "@jupyter-widgets/base",
      "_model_module_version": "1.2.0",
      "_model_name": "LayoutModel",
      "_view_count": null,
      "_view_module": "@jupyter-widgets/base",
      "_view_module_version": "1.2.0",
      "_view_name": "LayoutView",
      "align_content": null,
      "align_items": null,
      "align_self": null,
      "border": null,
      "bottom": null,
      "display": "inline-flex",
      "flex": null,
      "flex_flow": "row wrap",
      "grid_area": null,
      "grid_auto_columns": null,
      "grid_auto_flow": null,
      "grid_auto_rows": null,
      "grid_column": null,
      "grid_gap": null,
      "grid_row": null,
      "grid_template_areas": null,
      "grid_template_columns": null,
      "grid_template_rows": null,
      "height": null,
      "justify_content": null,
      "justify_items": null,
      "left": null,
      "margin": null,
      "max_height": null,
      "max_width": null,
      "min_height": null,
      "min_width": null,
      "object_fit": null,
      "object_position": null,
      "order": null,
      "overflow": null,
      "overflow_x": null,
      "overflow_y": null,
      "padding": null,
      "right": null,
      "top": null,
      "visibility": null,
      "width": "100%"
     }
    },
    "e0f4595bedfa42e6b6d45f435c480605": {
     "model_module": "@jupyter-widgets/controls",
     "model_name": "HBoxModel",
     "state": {
      "_dom_classes": [],
      "_model_module": "@jupyter-widgets/controls",
      "_model_module_version": "1.5.0",
      "_model_name": "HBoxModel",
      "_view_count": null,
      "_view_module": "@jupyter-widgets/controls",
      "_view_module_version": "1.5.0",
      "_view_name": "HBoxView",
      "box_style": "",
      "children": [
       "IPY_MODEL_3f739c4af35f402eb3ead5668c157f69",
       "IPY_MODEL_34cd5ba4322346aab1385820b5343cf7"
      ],
      "layout": "IPY_MODEL_ca066516cd8b476fb4776f31f5cddb95"
     }
    },
    "f2cb2d07ec754c4192cf4dfee28e92f6": {
     "model_module": "@jupyter-widgets/base",
     "model_name": "LayoutModel",
     "state": {
      "_model_module": "@jupyter-widgets/base",
      "_model_module_version": "1.2.0",
      "_model_name": "LayoutModel",
      "_view_count": null,
      "_view_module": "@jupyter-widgets/base",
      "_view_module_version": "1.2.0",
      "_view_name": "LayoutView",
      "align_content": null,
      "align_items": null,
      "align_self": null,
      "border": null,
      "bottom": null,
      "display": null,
      "flex": null,
      "flex_flow": null,
      "grid_area": null,
      "grid_auto_columns": null,
      "grid_auto_flow": null,
      "grid_auto_rows": null,
      "grid_column": null,
      "grid_gap": null,
      "grid_row": null,
      "grid_template_areas": null,
      "grid_template_columns": null,
      "grid_template_rows": null,
      "height": null,
      "justify_content": null,
      "justify_items": null,
      "left": null,
      "margin": null,
      "max_height": null,
      "max_width": null,
      "min_height": null,
      "min_width": null,
      "object_fit": null,
      "object_position": null,
      "order": null,
      "overflow": null,
      "overflow_x": null,
      "overflow_y": null,
      "padding": null,
      "right": null,
      "top": null,
      "visibility": null,
      "width": null
     }
    },
    "f7cde63276974d458551a95f20abbddf": {
     "model_module": "@jupyter-widgets/controls",
     "model_name": "HTMLModel",
     "state": {
      "_dom_classes": [],
      "_model_module": "@jupyter-widgets/controls",
      "_model_module_version": "1.5.0",
      "_model_name": "HTMLModel",
      "_view_count": null,
      "_view_module": "@jupyter-widgets/controls",
      "_view_module_version": "1.5.0",
      "_view_name": "HTMLView",
      "description": "",
      "description_tooltip": null,
      "layout": "IPY_MODEL_f2cb2d07ec754c4192cf4dfee28e92f6",
      "placeholder": "​",
      "style": "IPY_MODEL_a30ea7dad3ec4526919c39b999082ef4",
      "value": " 3/3 [00:05&lt;00:00,  1.78s/it]"
     }
    }
   }
  }
 },
 "nbformat": 4,
 "nbformat_minor": 1
}
