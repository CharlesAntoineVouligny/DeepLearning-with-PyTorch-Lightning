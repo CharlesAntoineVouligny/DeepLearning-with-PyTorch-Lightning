{
 "cells": [
  {
   "cell_type": "code",
   "execution_count": 136,
   "metadata": {},
   "outputs": [
    {
     "name": "stdout",
     "output_type": "stream",
     "text": [
      "Note: you may need to restart the kernel to use updated packages.\n",
      "Note: you may need to restart the kernel to use updated packages.\n"
     ]
    }
   ],
   "source": [
    "%pip install torch==1.10.0 torchvision==0.11.1 torchtext==0.11.0 torchaudio==0.10.0 --quiet\n",
    "%pip install pytorch-lightning==1.5.2 --quiet"
   ]
  },
  {
   "cell_type": "code",
   "execution_count": 137,
   "metadata": {},
   "outputs": [],
   "source": [
    "# Importing libraries (p.24)\n",
    "import pytorch_lightning as pl\n",
    "import torch\n",
    "from torch import nn, optim\n",
    "from torch.autograd import Variable\n",
    "import pytorch_lightning as pl\n",
    "from pytorch_lightning.callbacks import ModelCheckpoint\n",
    "from torch.utils.data import DataLoader\n",
    "from torchmetrics.functional import accuracy"
   ]
  },
  {
   "cell_type": "code",
   "execution_count": 138,
   "metadata": {},
   "outputs": [
    {
     "name": "stdout",
     "output_type": "stream",
     "text": [
      "Torch version: 1.10.0+cpu\n",
      "pytorch lightning version: 1.5.2\n"
     ]
    }
   ],
   "source": [
    "# Check last 2 blocks ran fine\n",
    "print(\"Torch version:\", torch.__version__)\n",
    "print(\"pytorch lightning version:\", pl.__version__)"
   ]
  },
  {
   "cell_type": "code",
   "execution_count": 139,
   "metadata": {},
   "outputs": [],
   "source": [
    "# Preparing the data (p.25)\n",
    "# Define input features\n",
    "xor_input = [Variable(torch.Tensor([0, 0])),\n",
    "              Variable(torch.Tensor([0, 1])),\n",
    "              Variable(torch.Tensor([1, 0])),\n",
    "              Variable(torch.Tensor([1, 1]))]"
   ]
  },
  {
   "cell_type": "code",
   "execution_count": 140,
   "metadata": {},
   "outputs": [],
   "source": [
    "# Define target variables\n",
    "xor_target = [Variable(torch.Tensor([0])),\n",
    "              Variable(torch.Tensor([1])),\n",
    "              Variable(torch.Tensor([1])),\n",
    "              Variable(torch.Tensor([0]))]"
   ]
  },
  {
   "cell_type": "code",
   "execution_count": 145,
   "metadata": {},
   "outputs": [],
   "source": [
    "# Build dataset\n",
    "xor_data = list(zip(xor_input, xor_target))\n",
    "train_loader = DataLoader(xor_data, batch_size=1000)"
   ]
  },
  {
   "cell_type": "code",
   "execution_count": 146,
   "metadata": {},
   "outputs": [],
   "source": [
    "# Configuring the model\n",
    "class XORModel(pl.LightningModule):\n",
    "  def __init__(self):\n",
    "\n",
    "    super(XORModel,self).__init__()\n",
    "    \n",
    "    self.input_layer = nn.Linear(2, 4)\n",
    "    self.output_layer = nn.Linear(4,1)\n",
    "\n",
    "    self.sigmoid = nn.Sigmoid()\n",
    "\n",
    "    self.loss = nn.MSELoss()\n",
    "\n",
    "    num_workers = 8\n",
    "\n",
    "  def forward(self, input):\n",
    "    print(\"INPUT:\", input.shape)\n",
    "    x = self.input_layer(input)\n",
    "    print(\"FIRST:\", x.shape)\n",
    "    x = self.sigmoid(x)\n",
    "    print(\"SECOND:\", x.shape)\n",
    "    output = self.output_layer(x)\n",
    "    print(\"THIRD:\", output.shape)\n",
    "    return output\n",
    "\n",
    "  def configure_optimizers(self):\n",
    "    params = self.parameters()\n",
    "    optimizer = optim.Adam(params=params, lr = 0.01)\n",
    "    return optimizer\n",
    "\n",
    "  def training_step(self, batch, batch_idx):\n",
    "    xor_input, xor_target = batch\n",
    "    print(\"XOR INPUT:\", xor_input.shape)\n",
    "    print(\"XOR TARGET:\", xor_target.shape)\n",
    "    outputs = self(xor_input) \n",
    "    print(\"XOR OUTPUT:\", outputs.shape)\n",
    "    loss = self.loss(outputs, xor_target)\n",
    "    return loss "
   ]
  },
  {
   "cell_type": "code",
   "execution_count": 164,
   "metadata": {},
   "outputs": [
    {
     "name": "stderr",
     "output_type": "stream",
     "text": [
      "GPU available: False, used: False\n",
      "TPU available: False, using: 0 TPU cores\n",
      "IPU available: False, using: 0 IPUs\n",
      "\n",
      "  | Name         | Type    | Params\n",
      "-----------------------------------------\n",
      "0 | input_layer  | Linear  | 12    \n",
      "1 | output_layer | Linear  | 5     \n",
      "2 | sigmoid      | Sigmoid | 0     \n",
      "3 | loss         | MSELoss | 0     \n",
      "-----------------------------------------\n",
      "17        Trainable params\n",
      "0         Non-trainable params\n",
      "17        Total params\n",
      "0.000     Total estimated model params size (MB)\n"
     ]
    },
    {
     "data": {
      "application/vnd.jupyter.widget-view+json": {
       "model_id": "e623f28711964184a37ccde612f1d1e7",
       "version_major": 2,
       "version_minor": 0
      },
      "text/plain": [
       "Training: 0it [00:00, ?it/s]"
      ]
     },
     "metadata": {},
     "output_type": "display_data"
    }
   ],
   "source": [
    "# Training the model (p.32)\n",
    "from pytorch_lightning.utilities.types import TRAIN_DATALOADERS\n",
    "checkpoint_callback = ModelCheckpoint()\n",
    "model = XORModel()\n",
    "\n",
    "trainer = pl.Trainer(max_epochs=500, callbacks=[checkpoint_callback])\n",
    "\n",
    "trainer.fit(model, train_dataloaders=train_loader)\n"
   ]
  },
  {
   "cell_type": "code",
   "execution_count": 165,
   "metadata": {},
   "outputs": [
    {
     "name": "stdout",
     "output_type": "stream",
     "text": [
      "c:\\Users\\cavou\\Desktop\\DeepLearning-with-PyTorch-Lightning\\Chapter02\\lightning_logs\\version_8\\checkpoints\\epoch=499-step=499.ckpt\n"
     ]
    }
   ],
   "source": [
    "# Loading the model (p.34)\n",
    "print(checkpoint_callback.best_model_path)\n",
    "train_model = model.load_from_checkpoint(checkpoint_callback.best_model_path)"
   ]
  },
  {
   "cell_type": "code",
   "execution_count": 166,
   "metadata": {},
   "outputs": [
    {
     "name": "stdout",
     "output_type": "stream",
     "text": [
      "[0, 0] 0\n",
      "[0, 1] 1\n",
      "[1, 0] 1\n",
      "[1, 1] 0\n"
     ]
    }
   ],
   "source": [
    "# Making predictions (p.35)\n",
    "test = torch.utils.data.DataLoader(xor_input, batch_size=1)\n",
    "for val in xor_input:\n",
    "  _ = train_model(val)\n",
    "  print([int(val[0]),int(val[1])], int(_.round()))"
   ]
  },
  {
   "cell_type": "code",
   "execution_count": 167,
   "metadata": {},
   "outputs": [
    {
     "name": "stdout",
     "output_type": "stream",
     "text": [
      "c:\\Users\\cavou\\Desktop\\DeepLearning-with-PyTorch-Lightning\\Chapter02\\lightning_logs\\version_8\\checkpoints\\epoch=499-step=499.ckpt\n",
      "TOTAL ACCURACY FOR 100 ITERATIONS:  1.0\n"
     ]
    }
   ],
   "source": [
    "print(checkpoint_callback.best_model_path)\n",
    "train_model = model.load_from_checkpoint(checkpoint_callback.best_model_path)\n",
    "total_accuracy = []\n",
    "for xor_input, xor_target in train_loader:\n",
    "  for i in range(100):\n",
    "    output_tensor = train_model(xor_input)\n",
    "    test_accuracy = accuracy(output_tensor, xor_target.int())\n",
    "    total_accuracy.append(test_accuracy)\n",
    "total_accuracy = torch.mean(torch.stack(total_accuracy))\n",
    "print(\"TOTAL ACCURACY FOR 100 ITERATIONS: \", total_accuracy.item())"
   ]
  }
 ],
 "metadata": {
  "interpreter": {
   "hash": "14a6dba3b4f26ab384529ea2541e4867e433194f6f48acae75216db1aed9fce1"
  },
  "kernelspec": {
   "display_name": "Python 3.9.12 ('base')",
   "language": "python",
   "name": "python3"
  },
  "language_info": {
   "codemirror_mode": {
    "name": "ipython",
    "version": 3
   },
   "file_extension": ".py",
   "mimetype": "text/x-python",
   "name": "python",
   "nbconvert_exporter": "python",
   "pygments_lexer": "ipython3",
   "version": "3.9.12"
  },
  "orig_nbformat": 4
 },
 "nbformat": 4,
 "nbformat_minor": 2
}
