{
 "cells": [
  {
   "cell_type": "code",
   "execution_count": null,
   "metadata": {},
   "outputs": [],
   "source": [
    "!pip install torch==1.10.0 torchvision==0.11.1 torchtext==0.11.0 torchaudio==0.10.0 --quiet\n",
    "!pip install pytorch-lightning==1.5.2 --quiet"
   ]
  },
  {
   "cell_type": "code",
   "execution_count": 3,
   "metadata": {},
   "outputs": [],
   "source": [
    "# Importing libraries (p.24)\n",
    "import pytorch_lightning as pl\n",
    "import torch\n",
    "from torch import nn, optim\n",
    "from torch.autograd import Variable\n",
    "from pytorch_lightning.callbacks import ModelCheckpoint\n",
    "from torch.utils.data import DataLoader"
   ]
  },
  {
   "cell_type": "code",
   "execution_count": null,
   "metadata": {},
   "outputs": [],
   "source": [
    "# Check last 2 blocks ran fine\n",
    "print(\"Torch version:\", torch.__version__)\n",
    "print(\"pytorch lightning version:\", pl.__version__)"
   ]
  },
  {
   "cell_type": "code",
   "execution_count": 5,
   "metadata": {},
   "outputs": [],
   "source": [
    "# Preparing the data (p.25)\n",
    "# Define input features\n",
    "xor_inputs = [Variable(torch.Tensor([0, 0])),\n",
    "              Variable(torch.Tensor([0, 1])),\n",
    "              Variable(torch.Tensor([1, 0])),\n",
    "              Variable(torch.Tensor([1, 1]))]"
   ]
  },
  {
   "cell_type": "code",
   "execution_count": 6,
   "metadata": {},
   "outputs": [],
   "source": [
    "# Define target variables\n",
    "xor_targets = [Variable(torch.Tensor([0])),\n",
    "              Variable(torch.Tensor([1])),\n",
    "              Variable(torch.Tensor([1])),\n",
    "              Variable(torch.Tensor([0]))]"
   ]
  },
  {
   "cell_type": "code",
   "execution_count": 7,
   "metadata": {},
   "outputs": [],
   "source": [
    "# Build dataset\n",
    "xor_data = list(zip(xor_inputs, xor_targets))\n",
    "train_loader = DataLoader(xor_data, batch_size=1)"
   ]
  },
  {
   "cell_type": "code",
   "execution_count": null,
   "metadata": {},
   "outputs": [],
   "source": [
    "# Configuring the model\n",
    "# Initializing the model (p.27)\n",
    "class XORModel(pl.LightningModule)\n",
    "\n",
    "def __init__(self):\n",
    "\n",
    "    super(XORModel, self).__init__()\n",
    "\n",
    "    self.input_layer = nn.Linear(2, 4)\n",
    "    self.output_layer = nn.Linear(4, 1)\n",
    "\n",
    "    self.sigmoid = nn.Sigmoid()\n",
    "    self.loss = nn.MSELoss()"
   ]
  }
 ],
 "metadata": {
  "interpreter": {
   "hash": "14a6dba3b4f26ab384529ea2541e4867e433194f6f48acae75216db1aed9fce1"
  },
  "kernelspec": {
   "display_name": "Python 3.9.12 ('base')",
   "language": "python",
   "name": "python3"
  },
  "language_info": {
   "codemirror_mode": {
    "name": "ipython",
    "version": 3
   },
   "file_extension": ".py",
   "mimetype": "text/x-python",
   "name": "python",
   "nbconvert_exporter": "python",
   "pygments_lexer": "ipython3",
   "version": "3.9.12"
  },
  "orig_nbformat": 4
 },
 "nbformat": 4,
 "nbformat_minor": 2
}
