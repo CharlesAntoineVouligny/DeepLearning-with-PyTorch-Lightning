{
 "cells": [
  {
   "cell_type": "markdown",
   "metadata": {},
   "source": [
    "# Import packages (p.38)"
   ]
  },
  {
   "cell_type": "code",
   "execution_count": 1,
   "metadata": {},
   "outputs": [
    {
     "name": "stdout",
     "output_type": "stream",
     "text": [
      "Note: you may need to restart the kernel to use updated packages.\n",
      "Note: you may need to restart the kernel to use updated packages.\n",
      "Note: you may need to restart the kernel to use updated packages.\n"
     ]
    }
   ],
   "source": [
    "%pip install torch==1.10.0 torchvision==0.11.1 torchtext==0.11.0 torchaudio==0.10.0 --quiet\n",
    "%pip install pytorch-lightning==1.5.2 --quiet\n",
    "%pip install opendatasets --upgrade --quiet"
   ]
  },
  {
   "cell_type": "code",
   "execution_count": 2,
   "metadata": {},
   "outputs": [],
   "source": [
    "import os\n",
    "import shutil\n",
    "import opendatasets as od\n",
    "import pandas as pd\n",
    "import numpy as np\n",
    "from PIL import Image\n",
    "from sklearn.metrics import confusion_matrix\n",
    "from sklearn.model_selection import train_test_split\n",
    "import matplotlib.pyplot as plt\n",
    "import torch\n",
    "from torch import nn, optim\n",
    "from torch.utils.data import DataLoader, Dataset\n",
    "from torch.utils.data.sampler import SubsetRandomSampler\n",
    "from torchvision.datasets import ImageFolder\n",
    "import torchvision.transforms as T\n",
    "from torchvision.utils import make_grid\n",
    "from torchmetrics.functional import accuracy\n",
    "import pytorch_lightning as pl"
   ]
  },
  {
   "cell_type": "code",
   "execution_count": 3,
   "metadata": {},
   "outputs": [
    {
     "name": "stdout",
     "output_type": "stream",
     "text": [
      "pandas version: 1.4.2\n",
      "numpy version: 1.21.5\n",
      "torch version: 1.10.0+cpu\n",
      "pytorch ligthening version: 1.5.2\n"
     ]
    }
   ],
   "source": [
    "print(\"pandas version:\",pd.__version__)\n",
    "print(\"numpy version:\",np.__version__)\n",
    "#print(\"seaborn version:\",sns.__version__)\n",
    "print(\"torch version:\",torch.__version__)\n",
    "print(\"pytorch ligthening version:\",pl.__version__)"
   ]
  },
  {
   "cell_type": "markdown",
   "metadata": {},
   "source": [
    "# Collect data (p.40)\n",
    "\n",
    "    Kaggle Credentials\n",
    "    --------------------------------------\n",
    "    username : charlesavouligny\n",
    "    key : 5af41fda95112216dda6290dcb66abfa"
   ]
  },
  {
   "cell_type": "code",
   "execution_count": 14,
   "metadata": {},
   "outputs": [
    {
     "name": "stdout",
     "output_type": "stream",
     "text": [
      "Please provide your Kaggle credentials to download this dataset. Learn more: http://bit.ly/kaggle-creds\n",
      "Your Kaggle username:Your Kaggle Key:Downloading histopathologic-cancer-detection.zip to .\\histopathologic-cancer-detection\n"
     ]
    },
    {
     "name": "stderr",
     "output_type": "stream",
     "text": [
      "100%|██████████| 6.31G/6.31G [07:14<00:00, 15.6MB/s]\n"
     ]
    },
    {
     "name": "stdout",
     "output_type": "stream",
     "text": [
      "\n",
      "Extracting archive .\\histopathologic-cancer-detection/histopathologic-cancer-detection.zip to .\\histopathologic-cancer-detection\n"
     ]
    }
   ],
   "source": [
    "dataset_url = 'https://www.kaggle.com/c/histopathologic-cancer-detection'\n",
    "od.download(dataset_url)"
   ]
  },
  {
   "cell_type": "code",
   "execution_count": 20,
   "metadata": {},
   "outputs": [
    {
     "data": {
      "text/plain": [
       "0    130908\n",
       "1     89117\n",
       "Name: label, dtype: int64"
      ]
     },
     "execution_count": 20,
     "metadata": {},
     "output_type": "execute_result"
    }
   ],
   "source": [
    "cancer_labels = pd.read_csv('histopathologic-cancer-detection/train_labels.csv')\n",
    "cancer_labels.head()\n",
    "cancer_labels['label'].value_counts()"
   ]
  },
  {
   "cell_type": "markdown",
   "metadata": {},
   "source": [
    "# Prepare data"
   ]
  },
  {
   "cell_type": "code",
   "execution_count": 24,
   "metadata": {},
   "outputs": [
    {
     "data": {
      "text/plain": [
       "10000"
      ]
     },
     "execution_count": 24,
     "metadata": {},
     "output_type": "execute_result"
    }
   ],
   "source": [
    "# Downsampling the data (p.42)\n",
    "# Get 10 000 images from the dataset\n",
    "np.random.seed(5436)\n",
    "train_imgs_orig = os.listdir(\"histopathologic-cancer-detection/train\")\n",
    "selected_image_list = []\n",
    "for img in np.random.choice(train_imgs_orig, 10000):\n",
    "  selected_image_list.append(img)\n",
    "len(selected_image_list)"
   ]
  },
  {
   "cell_type": "code",
   "execution_count": 25,
   "metadata": {},
   "outputs": [
    {
     "name": "stdout",
     "output_type": "stream",
     "text": [
      "Number of images in the downsampled training dataset:  8000\n",
      "Number of images in the downsampled testing dataset:  2000\n"
     ]
    }
   ],
   "source": [
    "# Split the extracted data in a training set and a testing set\n",
    "np.random.seed(5436)\n",
    "np.random.shuffle(selected_image_list)\n",
    "cancer_train_idx = selected_image_list[:8000]\n",
    "cancer_test_idx = selected_image_list[8000:]\n",
    "print(\"Number of images in the downsampled training dataset: \", len(cancer_train_idx))\n",
    "print(\"Number of images in the downsampled testing dataset: \", len(cancer_test_idx))"
   ]
  },
  {
   "cell_type": "code",
   "execution_count": null,
   "metadata": {},
   "outputs": [],
   "source": [
    "# (What the data looks like - purely informal)\n",
    "fig = plt.figure(figsize=(25, 6))\n",
    "for idx, img in enumerate(np.random.choice(selected_image_list, 20)):\n",
    "    ax = fig.add_subplot(2, 20//2, idx+1, xticks=[], yticks=[])\n",
    "    im = Image.open(\"histopathologic-cancer-detection/train/\" + img)\n",
    "    plt.imshow(im)\n",
    "    lab = cancer_labels.loc[cancer_labels['id'] == img.split('.')[0], 'label'].values[0]\n",
    "    ax.set_title(f'Label: {lab}')"
   ]
  },
  {
   "cell_type": "code",
   "execution_count": 27,
   "metadata": {},
   "outputs": [
    {
     "ename": "ModuleNotFoundError",
     "evalue": "No module named 'google.colab'",
     "output_type": "error",
     "traceback": [
      "\u001b[1;31m---------------------------------------------------------------------------\u001b[0m",
      "\u001b[1;31mModuleNotFoundError\u001b[0m                       Traceback (most recent call last)",
      "\u001b[1;32mc:\\Users\\cavou\\Desktop\\DeepLearning-with-PyTorch-Lightning\\Chapter02\\FirstDeepLearning-ImageRecognition.ipynb Cell 12'\u001b[0m in \u001b[0;36m<cell line: 2>\u001b[1;34m()\u001b[0m\n\u001b[0;32m      <a href='vscode-notebook-cell:/c%3A/Users/cavou/Desktop/DeepLearning-with-PyTorch-Lightning/Chapter02/FirstDeepLearning-ImageRecognition.ipynb#ch0000018?line=0'>1</a>\u001b[0m \u001b[39m# Loading the dataset\u001b[39;00m\n\u001b[1;32m----> <a href='vscode-notebook-cell:/c%3A/Users/cavou/Desktop/DeepLearning-with-PyTorch-Lightning/Chapter02/FirstDeepLearning-ImageRecognition.ipynb#ch0000018?line=1'>2</a>\u001b[0m \u001b[39mfrom\u001b[39;00m \u001b[39mgoogle\u001b[39;00m\u001b[39m.\u001b[39;00m\u001b[39mcolab\u001b[39;00m \u001b[39mimport\u001b[39;00m drive\n\u001b[0;32m      <a href='vscode-notebook-cell:/c%3A/Users/cavou/Desktop/DeepLearning-with-PyTorch-Lightning/Chapter02/FirstDeepLearning-ImageRecognition.ipynb#ch0000018?line=2'>3</a>\u001b[0m drive\u001b[39m.\u001b[39mmount(\u001b[39m'\u001b[39m\u001b[39m/content/gdrive\u001b[39m\u001b[39m'\u001b[39m)\n",
      "\u001b[1;31mModuleNotFoundError\u001b[0m: No module named 'google.colab'"
     ]
    }
   ],
   "source": [
    "# Loading the dataset\n",
    "from google.colab import drive\n",
    "drive.mount('/content/gdrive')"
   ]
  },
  {
   "cell_type": "code",
   "execution_count": null,
   "metadata": {},
   "outputs": [],
   "source": [
    "# Augmenting the dataset"
   ]
  },
  {
   "cell_type": "code",
   "execution_count": 17,
   "metadata": {},
   "outputs": [],
   "source": [
    "# Build the model"
   ]
  },
  {
   "cell_type": "code",
   "execution_count": 18,
   "metadata": {},
   "outputs": [],
   "source": [
    "# Train the model"
   ]
  },
  {
   "cell_type": "code",
   "execution_count": 19,
   "metadata": {},
   "outputs": [],
   "source": [
    "# Evaluate the accuracy of the model"
   ]
  }
 ],
 "metadata": {
  "interpreter": {
   "hash": "14a6dba3b4f26ab384529ea2541e4867e433194f6f48acae75216db1aed9fce1"
  },
  "kernelspec": {
   "display_name": "Python 3.9.12 ('base')",
   "language": "python",
   "name": "python3"
  },
  "language_info": {
   "codemirror_mode": {
    "name": "ipython",
    "version": 3
   },
   "file_extension": ".py",
   "mimetype": "text/x-python",
   "name": "python",
   "nbconvert_exporter": "python",
   "pygments_lexer": "ipython3",
   "version": "3.9.12"
  },
  "orig_nbformat": 4
 },
 "nbformat": 4,
 "nbformat_minor": 2
}
